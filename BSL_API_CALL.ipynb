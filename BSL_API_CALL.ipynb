{
 "cells": [
  {
   "cell_type": "markdown",
   "metadata": {},
   "source": [
    "## Requesting multiple series and specific dates from BLS API"
   ]
  },
  {
   "cell_type": "code",
   "execution_count": null,
   "metadata": {},
   "outputs": [],
   "source": [
    "import pandas as pd\n",
    "import requests\n",
    "import json\n",
    "import prettytable\n",
    "import config \n",
    "from config import BLS_API_KEY\n",
    "\n",
    "# The url for BLS API v2\n",
    "url = 'https://api.bls.gov/publicAPI/v1/timeseries/data/'\n",
    "\n",
    "# API key in config.py which contains: bls_key = 'key'\n",
    "key = '?registrationkey={}'.format(config.BLS_API_KEY)\n",
    "\n",
    "# Series stored as a dictionary\n",
    "series_dict = {\n",
    "    'LEU0252917300': 'High sch grads no coll, 25 yrs & ovr',\n",
    "    'LEU0254929400': 'Some coll or assc degr, 25 yrs & ovr ',\n",
    "    'LEU0252919100': 'Bach degr only, 25 yrs & ovr ',\n",
    "    'LEU0252918500': 'Bach degr or higher, 25 yrs & ovr ',\n",
    "    'LEU0252919700': 'Adv degree, 25 yrs & ovr '}\n",
    "\n",
    "# Start year and end year\n",
    "dates = ('2014', '2019')\n",
    "\n",
    "# Specify json as content type to return\n",
    "headers = {'Content-type': 'application/json'}\n",
    "\n",
    "# Submit the list of series as data\n",
    "data = json.dumps({\n",
    "    \"seriesid\": list(series_dict.keys()),\n",
    "    \"startyear\": dates[0],\n",
    "    \"endyear\": dates[1]})\n",
    "\n",
    "# Post request for the data\n",
    "p = requests.post('{}{}'.format(url, key),\n",
    "    headers=headers,\n",
    "    data=data).json()['Results']['series']\n"
   ]
  },
  {
   "cell_type": "markdown",
   "metadata": {},
   "source": [
    "# Loop through series and convert to pandas format"
   ]
  },
  {
   "cell_type": "code",
   "execution_count": null,
   "metadata": {},
   "outputs": [],
   "source": [
    "# use for loop to apply formatting or other changes to all series in the returned json data\n",
    "# Date index from first series\n",
    "date_list = [f\"{i['year']}-{i['period'][1:]}-01\" for i in p[0]['data']]\n",
    "\n",
    "# Create a dataframe to fill with values\n",
    "df = pd.DataFrame()\n",
    "\n",
    "# Build a pandas series from the API results, p\n",
    "for s in p:\n",
    "    df[series_dict[s['seriesID']]] = pd.Series(\n",
    "        index = pd.to_datetime(date_list),\n",
    "        data = [i['value'] for i in s['data']]\n",
    "        ).astype(float).iloc[::-1]\n",
    "    # Show last 5 results\n",
    "df.tail()"
   ]
  },
  {
   "cell_type": "markdown",
   "metadata": {},
   "source": [
    "# Plot the results"
   ]
  },
  {
   "cell_type": "code",
   "execution_count": null,
   "metadata": {},
   "outputs": [],
   "source": [
    "# Simple line plot of the data\n",
    "# df.plot(title='Earnings by Educational Attainment')"
   ]
  },
  {
   "cell_type": "markdown",
   "metadata": {},
   "source": [
    "# Conclusion"
   ]
  },
  {
   "cell_type": "code",
   "execution_count": null,
   "metadata": {},
   "outputs": [],
   "source": [
    "# what does the line plot show?"
   ]
  },
  {
   "cell_type": "code",
   "execution_count": null,
   "metadata": {},
   "outputs": [],
   "source": [
    "import pandas as pd\n",
    "import json\n",
    "import requests\n",
    "\n",
    "headers = {'Content-type': 'application/json'}\n",
    "data = json.dumps({\"seriesid\": ['LEU0252918500'],\"startyear\":\"2014\", \"endyear\":\"2019\"})\n",
    "p = requests.post('https://api.bls.gov/publicAPI/v1/timeseries/data/', data=data, headers=headers)\n",
    "json_data = json.loads(p.text)\n",
    "try:\n",
    "    df = pd.DataFrame()\n",
    "    for series in json_data['Results']['series']:\n",
    "        df_initial = pd.DataFrame(series)\n",
    "        series_col = df_initial['seriesID'][0]\n",
    "        for i in range(0, len(df_initial) - 1):\n",
    "            df_row = pd.DataFrame(df_initial['data'][i])\n",
    "            df_row['seriesID'] = series_col\n",
    "            if 'code' not in str(df_row['footnotes']): \n",
    "                df_row['footnotes'] = ''\n",
    "            else:\n",
    "                df_row['footnotes'] = str(df_row['footnotes']).split(\"'code': '\",1)[1][:1]\n",
    "            df = df.append(df_row, ignore_index=True)\n",
    "    df.to_csv('blsdata.csv', index=False)\n",
    "except:\n",
    "    json_data['status'] == 'REQUEST_NOT_PROCESSED'\n",
    "    print('BLS API has given the following Response:', json_data['status'])\n",
    "    print('Reason:', json_data['message'])"
   ]
  },
  {
   "cell_type": "code",
   "execution_count": null,
   "metadata": {},
   "outputs": [],
   "source": []
  }
 ],
 "metadata": {
  "kernelspec": {
   "display_name": "Python 3",
   "language": "python",
   "name": "python3"
  },
  "language_info": {
   "codemirror_mode": {
    "name": "ipython",
    "version": 3
   },
   "file_extension": ".py",
   "mimetype": "text/x-python",
   "name": "python",
   "nbconvert_exporter": "python",
   "pygments_lexer": "ipython3",
   "version": "3.7.7"
  }
 },
 "nbformat": 4,
 "nbformat_minor": 4
}
