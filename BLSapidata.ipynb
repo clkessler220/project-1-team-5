{
 "cells": [
  {
   "cell_type": "code",
   "execution_count": 6,
   "metadata": {},
   "outputs": [],
   "source": [
    "import requests\n",
    "import json\n",
    "import prettytable\n",
    "headers = {'Content-type': 'application/json'}\n",
    "data = json.dumps({\"seriesid\": ['LEU0252917300','LEU0254929400','LEU0252918500','LEU0252919100','LEU0252919700']\n",
    "                   ,\"startyear\":\"2014\", \"endyear\":\"2019\"})\n",
    "p = requests.post('https://api.bls.gov/publicAPI/v2/timeseries/data/', data=data, headers=headers)\n",
    "json_data = json.loads(p.text)\n",
    "for series in json_data['Results']['series']:\n",
    "    x=prettytable.PrettyTable([\"series id\",\"year\",\"period\",\"value\",\"footnotes\"])\n",
    "    seriesId = series['seriesID']\n",
    "    for item in series['data']:\n",
    "        year = item['year']\n",
    "        period = item['period']\n",
    "        value = item['value']\n",
    "        footnotes=\"\"\n",
    "        for footnote in item['footnotes']:\n",
    "            if footnote:\n",
    "                footnotes = footnotes + footnote['text'] + ','\n",
    "            if 'M01' <= period <= 'M12':\n",
    "                x.add_row([seriesId,year,period,value,footnotes[0:-1]])\n",
    "    output = open(seriesId + '.txt','w')\n",
    "    output.write (x.get_string())\n",
    "    output.close()   "
   ]
  },
  {
   "cell_type": "code",
   "execution_count": 9,
   "metadata": {},
   "outputs": [
    {
     "name": "stdout",
     "output_type": "stream",
     "text": [
      "BLS API has given the following Response: REQUEST_FAILED\n",
      "Reason: ['Your request has failed. Please check your input parameters, and try your request again.']\n"
     ]
    },
    {
     "ename": "AttributeError",
     "evalue": "'NoneType' object has no attribute 'to_excel'",
     "output_type": "error",
     "traceback": [
      "\u001b[1;31m---------------------------------------------------------------------------\u001b[0m",
      "\u001b[1;31mAttributeError\u001b[0m                            Traceback (most recent call last)",
      "\u001b[1;32m<ipython-input-9-3157528cc5aa>\u001b[0m in \u001b[0;36m<module>\u001b[1;34m\u001b[0m\n\u001b[0;32m     37\u001b[0m \u001b[0mdf\u001b[0m \u001b[1;33m=\u001b[0m \u001b[0mget_bls_data\u001b[0m\u001b[1;33m(\u001b[0m\u001b[0mseries\u001b[0m\u001b[1;33m=\u001b[0m\u001b[0mseries\u001b[0m\u001b[1;33m,\u001b[0m \u001b[0mstart\u001b[0m\u001b[1;33m=\u001b[0m\u001b[0mstart\u001b[0m\u001b[1;33m,\u001b[0m \u001b[0mend\u001b[0m\u001b[1;33m=\u001b[0m\u001b[0mend\u001b[0m\u001b[1;33m)\u001b[0m\u001b[1;33m\u001b[0m\u001b[1;33m\u001b[0m\u001b[0m\n\u001b[0;32m     38\u001b[0m \u001b[0mwriter\u001b[0m \u001b[1;33m=\u001b[0m \u001b[0mpd\u001b[0m\u001b[1;33m.\u001b[0m\u001b[0mExcelWriter\u001b[0m\u001b[1;33m(\u001b[0m\u001b[1;34m'bls.xlsx'\u001b[0m\u001b[1;33m,\u001b[0m \u001b[0mengine\u001b[0m\u001b[1;33m=\u001b[0m\u001b[1;34m'xlsxwriter'\u001b[0m\u001b[1;33m,\u001b[0m \u001b[0moptions\u001b[0m\u001b[1;33m=\u001b[0m\u001b[1;33m{\u001b[0m\u001b[1;34m'strings_to_numbers'\u001b[0m\u001b[1;33m:\u001b[0m \u001b[1;32mTrue\u001b[0m\u001b[1;33m}\u001b[0m\u001b[1;33m)\u001b[0m\u001b[1;33m\u001b[0m\u001b[1;33m\u001b[0m\u001b[0m\n\u001b[1;32m---> 39\u001b[1;33m \u001b[0mdf\u001b[0m\u001b[1;33m.\u001b[0m\u001b[0mto_excel\u001b[0m\u001b[1;33m(\u001b[0m\u001b[0mwriter\u001b[0m\u001b[1;33m,\u001b[0m \u001b[0msheet_name\u001b[0m\u001b[1;33m=\u001b[0m\u001b[1;34m'Sheet1'\u001b[0m\u001b[1;33m,\u001b[0m \u001b[0mindex\u001b[0m\u001b[1;33m=\u001b[0m\u001b[1;32mFalse\u001b[0m\u001b[1;33m)\u001b[0m\u001b[1;33m\u001b[0m\u001b[1;33m\u001b[0m\u001b[0m\n\u001b[0m\u001b[0;32m     40\u001b[0m \u001b[1;31m#writer.save()\u001b[0m\u001b[1;33m\u001b[0m\u001b[1;33m\u001b[0m\u001b[1;33m\u001b[0m\u001b[0m\n",
      "\u001b[1;31mAttributeError\u001b[0m: 'NoneType' object has no attribute 'to_excel'"
     ]
    }
   ],
   "source": [
    "import pandas as pd\n",
    "import json\n",
    "import requests\n",
    "\n",
    "def get_bls_data(series, start, end):\n",
    "    headers = {'Content-Type': 'application/json'}\n",
    "    data = json.dumps({\"LEU0252919700\": series,\"2014\":\"%d\" % (start), \"2019\":\"%d\" % (end)})\n",
    "    p = requests.post('https://api.bls.gov/publicAPI/v1/timeseries/data/', data=data, headers=headers)\n",
    "    json_data = json.loads(p.text)\n",
    "    try:\n",
    "        df = pd.DataFrame()\n",
    "        for series in json_data['Results']['series']:\n",
    "            df_initial = pd.DataFrame(series)\n",
    "            series_col = df_initial['seriesID'][0]\n",
    "            for i in range(0, len(df_initial) - 1):\n",
    "                df_row = pd.DataFrame(df_initial['data'][i])\n",
    "                df_row['seriesID'] = series_col\n",
    "                if 'code' not in str(df_row['footnotes']): \n",
    "                    df_row['footnotes'] = ''\n",
    "                else:\n",
    "                    df_row['footnotes'] = str(df_row['footnotes']).split(\"'code': '\",1)[1][:1]\n",
    "                df = df.append(df_row, ignore_index=True)\n",
    "        return df\n",
    "    except:\n",
    "        json_data['status'] == 'REQUEST_NOT_PROCESSED'\n",
    "        print('BLS API has given the following Response:', json_data['status'])\n",
    "        print('Reason:', json_data['message'])\n",
    "\n",
    "\n",
    "start = 2014\n",
    "end = 2019\n",
    "#series = [LEU0252881800','LEU0252882700','LEU0252916700','LEU0252917300','LEU0254929400',\n",
    " #        'LEU0252918500','LEU0252919100', 'LEU0252919700','LAUST040000000000005'\n",
    "#]\n",
    "series = ['LEU0252919700']\n",
    "\n",
    "df = get_bls_data(series=series, start=start, end=end)\n",
    "writer = pd.ExcelWriter('bls.xlsx', engine='xlsxwriter', options={'strings_to_numbers': True})\n",
    "df.to_excel(writer, sheet_name='Sheet1', index=False)\n",
    "#writer.save()"
   ]
  },
  {
   "cell_type": "markdown",
   "metadata": {},
   "source": [
    "# Performing a GET Request and saving the \n",
    "# API's response within a variable"
   ]
  },
  {
   "cell_type": "code",
   "execution_count": 5,
   "metadata": {},
   "outputs": [],
   "source": [
    "import pandas as pd\n",
    "import requests\n",
    "import json\n",
    "import prettytable\n",
    "url = 'https://api.bls.gov/publicAPI/v1/timeseries/data/LEU0252917300', \n",
    "# using the Inflation & Prices average price series\n",
    "data = requests.get(url).json()\n",
    "response = requests.get(url)\n",
    "response_json = response.json()\n",
    "#print('Status: ' + data['status'])\n",
    "#print(json.dumps(response_json, indent=4, sort_keys=True))"
   ]
  },
  {
   "cell_type": "code",
   "execution_count": 2,
   "metadata": {},
   "outputs": [],
   "source": [
    "#print(data.keys())\n"
   ]
  },
  {
   "cell_type": "code",
   "execution_count": null,
   "metadata": {},
   "outputs": [],
   "source": []
  }
 ],
 "metadata": {
  "kernelspec": {
   "display_name": "Python 3",
   "language": "python",
   "name": "python3"
  },
  "language_info": {
   "codemirror_mode": {
    "name": "ipython",
    "version": 3
   },
   "file_extension": ".py",
   "mimetype": "text/x-python",
   "name": "python",
   "nbconvert_exporter": "python",
   "pygments_lexer": "ipython3",
   "version": "3.7.7"
  }
 },
 "nbformat": 4,
 "nbformat_minor": 4
}
